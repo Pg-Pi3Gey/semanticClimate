{
  "nbformat": 4,
  "nbformat_minor": 0,
  "metadata": {
    "colab": {
      "name": "commands_abbreviation_extraction.ipynb",
      "provenance": [],
      "authorship_tag": "ABX9TyOYHwgiEJhUE8c7vjiC/LCj",
      "include_colab_link": true
    },
    "kernelspec": {
      "name": "python3",
      "display_name": "Python 3"
    },
    "language_info": {
      "name": "python"
    }
  },
  "cells": [
    {
      "cell_type": "markdown",
      "metadata": {
        "id": "view-in-github",
        "colab_type": "text"
      },
      "source": [
        "<a href=\"https://colab.research.google.com/github/petermr/semanticClimate/blob/main/abbreviations/Codes/commands_abbreviation_extraction.ipynb\" target=\"_parent\"><img src=\"https://colab.research.google.com/assets/colab-badge.svg\" alt=\"Open In Colab\"/></a>"
      ]
    },
    {
      "cell_type": "code",
      "execution_count": null,
      "metadata": {
        "id": "IH_f6jdWxFuc"
      },
      "outputs": [],
      "source": [
        "!git clone https://github.com/petermr/semanticClimate.git"
      ]
    },
    {
      "cell_type": "code",
      "source": [
        "%cd /content/semanticClimate/abbreviation/Codes/"
      ],
      "metadata": {
        "colab": {
          "base_uri": "https://localhost:8080/"
        },
        "id": "B7UJpOZNxTwt",
        "outputId": "111c4917-9115-48ca-dab0-c9f56096d47a"
      },
      "execution_count": 3,
      "outputs": [
        {
          "output_type": "stream",
          "name": "stdout",
          "text": [
            "/content/semanticClimate/abbreviation/Codes\n"
          ]
        }
      ]
    },
    {
      "cell_type": "code",
      "source": [
        "!pip install -r requirement.txt\n",
        "!python -m spacy download en_core_web_sm"
      ],
      "metadata": {
        "id": "qwnMowMlxRGi"
      },
      "execution_count": null,
      "outputs": []
    },
    {
      "cell_type": "code",
      "source": [
        "!python abbreviation_extraction.py \\\n",
        "--html_path /content/semanticClimate/ipcc/ar6/wg3/Chapter16/fulltext.flow.html \\\n",
        "--saving_path /content/ \\\n",
        "--model 'both' \\\n",
        "--marker 'Chapter 16' -t"
      ],
      "metadata": {
        "colab": {
          "base_uri": "https://localhost:8080/"
        },
        "id": "7vsocEMovcaH",
        "outputId": "cb60ac0f-36d6-4ac1-a0b1-edd524fd0322"
      },
      "execution_count": 5,
      "outputs": [
        {
          "output_type": "stream",
          "name": "stdout",
          "text": [
            "2022-07-13 13:33:14,067 : INFO : NumExpr defaulting to 2 threads.\n"
          ]
        }
      ]
    }
  ]
}